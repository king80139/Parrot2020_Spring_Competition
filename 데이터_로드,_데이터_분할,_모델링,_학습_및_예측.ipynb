{
  "nbformat": 4,
  "nbformat_minor": 0,
  "metadata": {
    "colab": {
      "name": "데이터 로드, 데이터 분할, 모델링, 학습 및 예측.ipynb",
      "provenance": [],
      "collapsed_sections": [],
      "toc_visible": true,
      "machine_shape": "hm",
      "mount_file_id": "1ZN57GKsVPGw3hcbkMjafsJW1pf91Xm9k",
      "authorship_tag": "ABX9TyNbTP6uHwxYH1EwiGVQ+bKo",
      "include_colab_link": true
    },
    "kernelspec": {
      "name": "python3",
      "display_name": "Python 3"
    },
    "accelerator": "TPU"
  },
  "cells": [
    {
      "cell_type": "markdown",
      "metadata": {
        "id": "view-in-github",
        "colab_type": "text"
      },
      "source": [
        "<a href=\"https://colab.research.google.com/github/king80139/Parrot2020_Spring_Competition/blob/master/%EB%8D%B0%EC%9D%B4%ED%84%B0_%EB%A1%9C%EB%93%9C%2C_%EB%8D%B0%EC%9D%B4%ED%84%B0_%EB%B6%84%ED%95%A0%2C_%EB%AA%A8%EB%8D%B8%EB%A7%81%2C_%ED%95%99%EC%8A%B5_%EB%B0%8F_%EC%98%88%EC%B8%A1.ipynb\" target=\"_parent\"><img src=\"https://colab.research.google.com/assets/colab-badge.svg\" alt=\"Open In Colab\"/></a>"
      ]
    },
    {
      "cell_type": "markdown",
      "metadata": {
        "id": "3EMDcoexuTum",
        "colab_type": "text"
      },
      "source": [
        "# 이미지 분류 학습 맛보기"
      ]
    },
    {
      "cell_type": "markdown",
      "metadata": {
        "id": "HOHxwCvgd9mC",
        "colab_type": "text"
      },
      "source": [
        "## 시작 전 VGG모델 성능 보기"
      ]
    },
    {
      "cell_type": "code",
      "metadata": {
        "id": "l_lHDa6IObO0",
        "colab_type": "code",
        "outputId": "d41fe4de-2415-4193-9c94-0b717d57f6ed",
        "colab": {
          "base_uri": "https://localhost:8080/",
          "height": 1000
        }
      },
      "source": [
        "import tensorflow as tf\n",
        "from tensorflow.keras.preprocessing.image import load_img, img_to_array\n",
        "from tensorflow.keras.applications.vgg16 import preprocess_input, decode_predictions, VGG16\n",
        "import numpy as np\n",
        "\n",
        "\n",
        "# 텐서플로우 백엔드 케라스에서 VGG16모델을 불러옵니다. 이는 별다른 조작 없이 불러왔기에 기존에 학습되어있는 바가 담겨있습니다.\n",
        "model  = VGG16()\n",
        "\n",
        "# 모델의 구조를 파악하기 위해 summary를 프린트합니다.\n",
        "print(model.summary())\n",
        "print(\"----------------------------\\n\")\n",
        "\n",
        "# 예측하고 싶은 이미지파일을 불러오고, 224*224로 사이즈를 변환해줍니다. (VGG모델이 224*224 크기의 input을 받습니다.)\n",
        "image = load_img(\"/content/drive/My Drive/Colab Notebooks/2ndparrot/2020_parrot_dataset/2020_parrot_dataset/NewSet/train/raccoon/002c3a60a6c763cdb5.jpg\", target_size = (224,224))\n",
        "\n",
        "# 해당 이미지를 numpy array로 변환해줍니다. 이로써 224*224*3(RGB니까)개의 픽셀값이 담긴 배열이 생성됩니다.\n",
        "image = img_to_array(image)\n",
        "\n",
        "# 해당 이미지의 배열의 차원을 3차원에서 4차원으로 늘려줍니다. 이로써 1개의, height가 224이고, width가 224이며, color channel이 3인 4차원의 배열이 생성됩니다.\n",
        "image = image.reshape((1, image.shape[0], image.shape[1], image.shape[2]))\n",
        "\n",
        "# 이 이미지를 preprocess_input이라는 위에서 import 한 함수에 넣어줘 VGG 모델에 맞는 input data의 형식으로 변환해줍니다. (추측)  <-- preprocess_input() 함수 기능 알아볼 것!\n",
        "image = preprocess_input(image)\n",
        "\n",
        "# preprocess_input()의 역할을 알기 위해 이 결과값을 프린트해봅니다. 결과를 보니\n",
        "print(image)\n",
        "print(\"\\n\")\n",
        "h_range, w_range, RGB_range = np.random.randint(0,224), np.random.randint(0,224), np.random.randint(0,3)\n",
        "RGB = \"B\" if RGB_range == 1 else \"G\" if RGB_range == 2 else \"R\"\n",
        "# 결과값의 랜덤한 height, width의 스팟의 랜덤한 색채널의 픽셀값을 프린트해보겠습니다.\n",
        "print(\"height가 '\"+str(h_range)+\"'이고, width가 '\"+str(w_range)+\"'인 스팟의 '\"+RGB+\"'채널의 픽셀값은 : \" + str(image[0][h_range][w_range][RGB_range]) + \"\\n\")\n",
        "# 이 픽셀값을 보시면 알겠지만 정규화는 안되어있는것을 볼 수 있습니다. 정규화가 꼭 필요한 것인지는 의문입니다.\n",
        "print(\"----------------------------\\n\")\n",
        "\n",
        "# 해당 이미지의 배열을 바탕으로 VGG모델이 이 사진이 어떤 카테고리에 속할지 예측시킵니다.\n",
        "yhat = model.predict(image)\n",
        "\n",
        "# 결과값이 어떤 형태로 도출되는지 보기 위해 프린트 해봅니다. 프린트 해보니 [[결과값들~~~~~]] 식으로 나옵니다. \n",
        "# 앞서 불러온 VGG16모델의 최상단 층의 노드가 1000개이니, 결과값도 1000개가 나옵니다.\n",
        "# 이는 1000개의 확률로, 어떤 카테고리에 속할 확률을 1000개 나온것이라고 생각됩니다.\n",
        "print(yhat)\n",
        "print(\"----------------------------\\n\")\n",
        "\n",
        "# 그 결과값을 사람이 알아들을 수 있도록 decode_predictions라는 함수를 사용합니다.(추측)  <-- decode_predictions() 함수 기능 알아볼 것!\n",
        "label = decode_predictions(yhat)\n",
        "\n",
        "# decode_predictions() 이 무슨 역할을 하는지 알기위해 그 결과를 프린트 해줍니다.\n",
        "# 결과값은 해당 이미지의 대상이 속할 카테고리와 그 확률을 상위 5개로 줄여서 보여줍니다.  \n",
        "# 아래와 같이 표시됩니다.\n",
        "# [('카테고리넘버', '속할 카테고리_1', '확률'),('카테고리넘버', '속할 카테고리_2', '확률'),('카테고리넘버', '속할 카테고리_3', '확률'),('카테고리넘버', '속할 카테고리_4', '확률'),('카테고리넘버', '속할 카테고리_5', '확률')]\n",
        "print(label)\n",
        "print(\"----------------------------\\n\")\n",
        "\n",
        "# 속할 확률이 가장 높은 카테고리를 표시해줍니다.\n",
        "label = label[0][0]\n",
        "print('%s(%.2f%%)'%(label[1],label[2]*100))"
      ],
      "execution_count": 0,
      "outputs": [
        {
          "output_type": "stream",
          "text": [
            "Downloading data from https://storage.googleapis.com/tensorflow/keras-applications/vgg16/vgg16_weights_tf_dim_ordering_tf_kernels.h5\n",
            "553467904/553467096 [==============================] - 3s 0us/step\n",
            "Model: \"vgg16\"\n",
            "_________________________________________________________________\n",
            "Layer (type)                 Output Shape              Param #   \n",
            "=================================================================\n",
            "input_1 (InputLayer)         [(None, 224, 224, 3)]     0         \n",
            "_________________________________________________________________\n",
            "block1_conv1 (Conv2D)        (None, 224, 224, 64)      1792      \n",
            "_________________________________________________________________\n",
            "block1_conv2 (Conv2D)        (None, 224, 224, 64)      36928     \n",
            "_________________________________________________________________\n",
            "block1_pool (MaxPooling2D)   (None, 112, 112, 64)      0         \n",
            "_________________________________________________________________\n",
            "block2_conv1 (Conv2D)        (None, 112, 112, 128)     73856     \n",
            "_________________________________________________________________\n",
            "block2_conv2 (Conv2D)        (None, 112, 112, 128)     147584    \n",
            "_________________________________________________________________\n",
            "block2_pool (MaxPooling2D)   (None, 56, 56, 128)       0         \n",
            "_________________________________________________________________\n",
            "block3_conv1 (Conv2D)        (None, 56, 56, 256)       295168    \n",
            "_________________________________________________________________\n",
            "block3_conv2 (Conv2D)        (None, 56, 56, 256)       590080    \n",
            "_________________________________________________________________\n",
            "block3_conv3 (Conv2D)        (None, 56, 56, 256)       590080    \n",
            "_________________________________________________________________\n",
            "block3_pool (MaxPooling2D)   (None, 28, 28, 256)       0         \n",
            "_________________________________________________________________\n",
            "block4_conv1 (Conv2D)        (None, 28, 28, 512)       1180160   \n",
            "_________________________________________________________________\n",
            "block4_conv2 (Conv2D)        (None, 28, 28, 512)       2359808   \n",
            "_________________________________________________________________\n",
            "block4_conv3 (Conv2D)        (None, 28, 28, 512)       2359808   \n",
            "_________________________________________________________________\n",
            "block4_pool (MaxPooling2D)   (None, 14, 14, 512)       0         \n",
            "_________________________________________________________________\n",
            "block5_conv1 (Conv2D)        (None, 14, 14, 512)       2359808   \n",
            "_________________________________________________________________\n",
            "block5_conv2 (Conv2D)        (None, 14, 14, 512)       2359808   \n",
            "_________________________________________________________________\n",
            "block5_conv3 (Conv2D)        (None, 14, 14, 512)       2359808   \n",
            "_________________________________________________________________\n",
            "block5_pool (MaxPooling2D)   (None, 7, 7, 512)         0         \n",
            "_________________________________________________________________\n",
            "flatten (Flatten)            (None, 25088)             0         \n",
            "_________________________________________________________________\n",
            "fc1 (Dense)                  (None, 4096)              102764544 \n",
            "_________________________________________________________________\n",
            "fc2 (Dense)                  (None, 4096)              16781312  \n",
            "_________________________________________________________________\n",
            "predictions (Dense)          (None, 1000)              4097000   \n",
            "=================================================================\n",
            "Total params: 138,357,544\n",
            "Trainable params: 138,357,544\n",
            "Non-trainable params: 0\n",
            "_________________________________________________________________\n",
            "None\n",
            "----------------------------\n",
            "\n"
          ],
          "name": "stdout"
        },
        {
          "output_type": "error",
          "ename": "OSError",
          "evalue": "ignored",
          "traceback": [
            "\u001b[0;31m---------------------------------------------------------------------------\u001b[0m",
            "\u001b[0;31mOSError\u001b[0m                                   Traceback (most recent call last)",
            "\u001b[0;32m<ipython-input-1-67277da6b433>\u001b[0m in \u001b[0;36m<module>\u001b[0;34m()\u001b[0m\n\u001b[1;32m     13\u001b[0m \u001b[0;34m\u001b[0m\u001b[0m\n\u001b[1;32m     14\u001b[0m \u001b[0;31m# 예측하고 싶은 이미지파일을 불러오고, 224*224로 사이즈를 변환해줍니다. (VGG모델이 224*224 크기의 input을 받습니다.)\u001b[0m\u001b[0;34m\u001b[0m\u001b[0;34m\u001b[0m\u001b[0;34m\u001b[0m\u001b[0m\n\u001b[0;32m---> 15\u001b[0;31m \u001b[0mimage\u001b[0m \u001b[0;34m=\u001b[0m \u001b[0mload_img\u001b[0m\u001b[0;34m(\u001b[0m\u001b[0;34m\"/content/drive/My Drive/Colab Notebooks/2ndparrot/2020_parrot_dataset/2020_parrot_dataset/NewSet/train/raccoon/002c3a60a6c763cdb5.jpg\"\u001b[0m\u001b[0;34m,\u001b[0m \u001b[0mtarget_size\u001b[0m \u001b[0;34m=\u001b[0m \u001b[0;34m(\u001b[0m\u001b[0;36m224\u001b[0m\u001b[0;34m,\u001b[0m\u001b[0;36m224\u001b[0m\u001b[0;34m)\u001b[0m\u001b[0;34m)\u001b[0m\u001b[0;34m\u001b[0m\u001b[0;34m\u001b[0m\u001b[0m\n\u001b[0m\u001b[1;32m     16\u001b[0m \u001b[0;34m\u001b[0m\u001b[0m\n\u001b[1;32m     17\u001b[0m \u001b[0;31m# 해당 이미지를 numpy array로 변환해줍니다. 이로써 224*224*3(RGB니까)개의 픽셀값이 담긴 배열이 생성됩니다.\u001b[0m\u001b[0;34m\u001b[0m\u001b[0;34m\u001b[0m\u001b[0;34m\u001b[0m\u001b[0m\n",
            "\u001b[0;32m/usr/local/lib/python3.6/dist-packages/keras_preprocessing/image/utils.py\u001b[0m in \u001b[0;36mload_img\u001b[0;34m(path, grayscale, color_mode, target_size, interpolation)\u001b[0m\n\u001b[1;32m    111\u001b[0m         raise ImportError('Could not import PIL.Image. '\n\u001b[1;32m    112\u001b[0m                           'The use of `load_img` requires PIL.')\n\u001b[0;32m--> 113\u001b[0;31m     \u001b[0;32mwith\u001b[0m \u001b[0mopen\u001b[0m\u001b[0;34m(\u001b[0m\u001b[0mpath\u001b[0m\u001b[0;34m,\u001b[0m \u001b[0;34m'rb'\u001b[0m\u001b[0;34m)\u001b[0m \u001b[0;32mas\u001b[0m \u001b[0mf\u001b[0m\u001b[0;34m:\u001b[0m\u001b[0;34m\u001b[0m\u001b[0;34m\u001b[0m\u001b[0m\n\u001b[0m\u001b[1;32m    114\u001b[0m         \u001b[0mimg\u001b[0m \u001b[0;34m=\u001b[0m \u001b[0mpil_image\u001b[0m\u001b[0;34m.\u001b[0m\u001b[0mopen\u001b[0m\u001b[0;34m(\u001b[0m\u001b[0mio\u001b[0m\u001b[0;34m.\u001b[0m\u001b[0mBytesIO\u001b[0m\u001b[0;34m(\u001b[0m\u001b[0mf\u001b[0m\u001b[0;34m.\u001b[0m\u001b[0mread\u001b[0m\u001b[0;34m(\u001b[0m\u001b[0;34m)\u001b[0m\u001b[0;34m)\u001b[0m\u001b[0;34m)\u001b[0m\u001b[0;34m\u001b[0m\u001b[0;34m\u001b[0m\u001b[0m\n\u001b[1;32m    115\u001b[0m         \u001b[0;32mif\u001b[0m \u001b[0mcolor_mode\u001b[0m \u001b[0;34m==\u001b[0m \u001b[0;34m'grayscale'\u001b[0m\u001b[0;34m:\u001b[0m\u001b[0;34m\u001b[0m\u001b[0;34m\u001b[0m\u001b[0m\n",
            "\u001b[0;31mOSError\u001b[0m: [Errno 5] Input/output error: '/content/drive/My Drive/Colab Notebooks/2ndparrot/2020_parrot_dataset/2020_parrot_dataset/NewSet/train/raccoon/002c3a60a6c763cdb5.jpg'"
          ]
        }
      ]
    },
    {
      "cell_type": "markdown",
      "metadata": {
        "id": "n3lTrsRCucRE",
        "colab_type": "text"
      },
      "source": [
        "# 거인의 어깨 빌리지 않기"
      ]
    },
    {
      "cell_type": "markdown",
      "metadata": {
        "id": "eKBjtitmRenF",
        "colab_type": "text"
      },
      "source": [
        "## VGG16모델 직접 쌓아보기\n",
        "\n",
        "블로그나 책자등에서 쏘개하는 VGG!6모델의 구조를 완벽하진 않지만, 최대한 구현해보기 위해 층을 직접 쌓아보았습니다.  \n",
        "**<U>직접 층을 쌓는 방법은 그냥 가져다 쓰는 것 보다 해당 모델의 구조를 더 잘 이해하고, 사용법을 더 잘 이해할 수 있을 것이라는 기대를 줬습니다.</U>**  \n",
        "16개의 hidden layer로 이루어진 VGG16모델은 큰 convolution filter보다 작은 convolution filter를 여러번 적용했을 때 그 성능이 더 좋다는 주장과 함께 소개되었으며,  \n",
        "현재 GoogleNet보다 더 많이 사용한다 합니다.  \n",
        "하지만 층이 깊은 만큼 학습해야하는 parameter수도 많고, 그로 인해 학습속도가 느리다는 단점이 있습니다.  \n",
        "\n",
        "그럼에도 불구하고 일단 많이 소개되었기도 하고, 구조 설계가 많이 나와있어 이 모델을 먼저 선택했습니다."
      ]
    },
    {
      "cell_type": "code",
      "metadata": {
        "id": "76q719JSRe_7",
        "colab_type": "code",
        "outputId": "ddab8f34-1bda-4d5b-844e-4244e9840ba6",
        "colab": {
          "base_uri": "https://localhost:8080/",
          "height": 767
        }
      },
      "source": [
        "# VGG16모델의 구조를 이해하기 위해 직접 쌓아봤습니다.\n",
        "\n",
        "import tensorflow as tf\n",
        "\n",
        "# 기본적인 데이터셋\n",
        "num_classes = 8          # 데이터셋 카테고리 수\n",
        "#file_dir\n",
        "\n",
        "\n",
        "# VGG16모델 쌓기\n",
        "tf.keras.backend.clear_session()\n",
        "model = tf.keras.models.Sequential()\n",
        "\n",
        "model.add(tf.keras.layers.Conv2D(64, (3, 3), input_shape = (64, 64, 3), strides = (1,1), padding = \"same\", activation = \"relu\"))  # 1층 :input_data 크기는 224*224, 64개의 3*3*3(RGB) Conv 필터, 제로패딩, ReLU 활성함수적용\n",
        "model.add(tf.keras.layers.Conv2D(64, (3, 3), padding = \"same\", activation = \"relu\"))           # 2층 :64개의 3*3*3(RGB) Conv 필터, 제로패딩, ReLU 활성함수적용\n",
        "model.add(tf.keras.layers.MaxPool2D())                                                                                            # Maxpooling 으로 112*112*64 의 feature map이 만들어짐.\n",
        "\n",
        "model.add(tf.keras.layers.Conv2D(128, (3, 3), padding = \"same\", activation = \"relu\"))          # 3층 :128개의 112*112* feature map 생성.\n",
        "model.add(tf.keras.layers.Conv2D(128, (3, 3), padding = \"same\", activation = \"relu\"))          # 4층 :128개의 112*112* feature map 생성.\n",
        "model.add(tf.keras.layers.MaxPool2D()) \n",
        "\n",
        "model.add(tf.keras.layers.Conv2D(256, (3, 3), padding = \"same\", activation = \"relu\"))          # 5층\n",
        "model.add(tf.keras.layers.Conv2D(256, (3, 3), padding = \"same\", activation = \"relu\"))          # 6층\n",
        "model.add(tf.keras.layers.Conv2D(256, (3, 3), padding = \"same\", activation = \"relu\"))          # 7층\n",
        "model.add(tf.keras.layers.MaxPool2D()) \n",
        "\n",
        "#model.add(tf.keras.layers.Conv2D(512, (3, 3), padding = \"same\", activation = \"relu\"))          # 8층\n",
        "#model.add(tf.keras.layers.Conv2D(512, (3, 3), padding = \"same\", activation = \"relu\"))          # 9층\n",
        "#model.add(tf.keras.layers.Conv2D(512, (3, 3), padding = \"same\", activation = \"relu\"))          # 10층\n",
        "#model.add(tf.keras.layers.MaxPool2D()) \n",
        "\n",
        "#model.add(tf.keras.layers.Conv2D(512, (3, 3), padding = \"same\", activation = \"relu\"))          # 11층\n",
        "#model.add(tf.keras.layers.Conv2D(512, (3, 3), padding = \"same\", activation = \"relu\"))          # 12층\n",
        "#model.add(tf.keras.layers.Conv2D(512, (3, 3), padding = \"same\", activation = \"relu\"))          # 13층\n",
        "#model.add(tf.keras.layers.MaxPool2D())  \n",
        "\n",
        "model.add(tf.keras.layers.Flatten())                                                           # 14층\n",
        "\n",
        "model.add(tf.keras.layers.Dense(4096, activation = 'relu'))                                    # 15층\n",
        "model.add(tf.keras.layers.Dropout(0.5))\n",
        "model.add(tf.keras.layers.Dense(4096, activation = 'relu'))                                    # 16층\n",
        "model.add(tf.keras.layers.Dropout(0.5))\n",
        "model.add(tf.keras.layers.Dense(num_classes, activation = 'softmax'))                          # outcome층\n",
        "\n",
        "model.compile(loss = 'categorical_crossentropy', optimizer = 'sgd', metrics = ['accuracy'])    # 찾아본 바로는 VGG16모델이 최적화 함수를 sgd를 사용한다길래 이를 차용했습니다.\n",
        "\n",
        "model.summary() \n"
      ],
      "execution_count": 0,
      "outputs": [
        {
          "output_type": "stream",
          "text": [
            "Model: \"sequential\"\n",
            "_________________________________________________________________\n",
            "Layer (type)                 Output Shape              Param #   \n",
            "=================================================================\n",
            "conv2d (Conv2D)              (None, 64, 64, 64)        1792      \n",
            "_________________________________________________________________\n",
            "conv2d_1 (Conv2D)            (None, 64, 64, 64)        36928     \n",
            "_________________________________________________________________\n",
            "max_pooling2d (MaxPooling2D) (None, 32, 32, 64)        0         \n",
            "_________________________________________________________________\n",
            "conv2d_2 (Conv2D)            (None, 32, 32, 128)       73856     \n",
            "_________________________________________________________________\n",
            "conv2d_3 (Conv2D)            (None, 32, 32, 128)       147584    \n",
            "_________________________________________________________________\n",
            "max_pooling2d_1 (MaxPooling2 (None, 16, 16, 128)       0         \n",
            "_________________________________________________________________\n",
            "conv2d_4 (Conv2D)            (None, 16, 16, 256)       295168    \n",
            "_________________________________________________________________\n",
            "conv2d_5 (Conv2D)            (None, 16, 16, 256)       590080    \n",
            "_________________________________________________________________\n",
            "conv2d_6 (Conv2D)            (None, 16, 16, 256)       590080    \n",
            "_________________________________________________________________\n",
            "max_pooling2d_2 (MaxPooling2 (None, 8, 8, 256)         0         \n",
            "_________________________________________________________________\n",
            "flatten (Flatten)            (None, 16384)             0         \n",
            "_________________________________________________________________\n",
            "dense (Dense)                (None, 4096)              67112960  \n",
            "_________________________________________________________________\n",
            "dropout (Dropout)            (None, 4096)              0         \n",
            "_________________________________________________________________\n",
            "dense_1 (Dense)              (None, 4096)              16781312  \n",
            "_________________________________________________________________\n",
            "dropout_1 (Dropout)          (None, 4096)              0         \n",
            "_________________________________________________________________\n",
            "dense_2 (Dense)              (None, 8)                 32776     \n",
            "=================================================================\n",
            "Total params: 85,662,536\n",
            "Trainable params: 85,662,536\n",
            "Non-trainable params: 0\n",
            "_________________________________________________________________\n"
          ],
          "name": "stdout"
        }
      ]
    },
    {
      "cell_type": "markdown",
      "metadata": {
        "id": "gGbxz8RiqcJV",
        "colab_type": "text"
      },
      "source": [
        "## 이미지 데이터 로딩하기\n",
        "이미지 데이터를 가져와 배열화한 다음, 훈련데이터와 훈련라벨, 예측데이터와 예측라벨로 나누는 것을 구현하는 것을 시도했습니다.  \n",
        "다만 속도를 조금 빠르게 하기 위해 데이터를 증강하지 않고, 기본적으로 주어진 train데이터로 시도했습니다.  \n",
        "이는 ImageDataGenerator를 사용해 빠르게 지정할 수 있었겠지만, 그 메커니즘을 제대로 이해하지 못해 오류만 자꾸 나와서, 일단 직접적으로 이미지 데이터를 불러들이고, 넘파이 배열로 바꾸는 식으로 무식하지만 확실한 방법으로 데이터를 로딩해 봤습니다."
      ]
    },
    {
      "cell_type": "code",
      "metadata": {
        "id": "RCazGaJPWuEa",
        "colab_type": "code",
        "outputId": "290881bb-812c-4563-d88f-8737f29d3872",
        "colab": {
          "base_uri": "https://localhost:8080/",
          "height": 880
        }
      },
      "source": [
        "import os\n",
        "import numpy as np\n",
        "from tqdm import tqdm\n",
        "import cv2\n",
        "\n",
        "os.chdir(\"/content/drive/My Drive/Colab Notebooks/2ndparrot/2020_parrot_dataset/2020_parrot_dataset/\")\n",
        "list_classes = [\"bear\",\"bird\",\"cat\",\"deer\",\"dog\",\"raccoon\",\"rat\",\"seal\"]\n",
        "\n",
        "class_names_label = {class_name:i for i, class_name in enumerate(list_classes)}\n",
        "\n",
        "nb_classes = len(list_classes)\n",
        "\n",
        "IMAGE_SIZE = (224, 224)\n",
        "\n",
        "def load_data():\n",
        "    Datasets = [\"./train/\", \"./test\"]\n",
        "    output = []\n",
        "    e = 1\n",
        "\n",
        "    for dataset in Datasets:\n",
        "\n",
        "        images = []\n",
        "        labels = []\n",
        "\n",
        "        print(\"Loading from {}\".format(dataset))\n",
        "        if dataset == \"./train/\":\n",
        "            for folder in os.listdir(dataset)[1:-2]:\n",
        "            \n",
        "                label = class_names_label[folder]\n",
        "                print(folder)\n",
        "                print(label)\n",
        "\n",
        "                for file in tqdm(os.listdir(os.path.join(dataset, folder))):\n",
        "\n",
        "                    try:\n",
        "\n",
        "                        img_path = os.path.join(os.path.join(dataset, folder), file)\n",
        "\n",
        "                        image = cv2.imread(img_path)\n",
        "                        image = cv2.resize(image, IMAGE_SIZE)\n",
        "\n",
        "                        images.append(image)\n",
        "                        \n",
        "                        labels.append(label)\n",
        "                    except:\n",
        "                        e += 1\n",
        "                        print(\"빈 파일이거나, OpenCV가 불러올 수 없는 확장자거나\")\n",
        "                        pass\n",
        "                \n",
        "        else :\n",
        "            for file in tqdm(os.listdir(dataset)):\n",
        "                try:\n",
        "                    img_path = os.path.join(dataset, file)\n",
        "\n",
        "                    image = cv2.imread(img_path)\n",
        "                    image = cv2.resize(image, IMAGE_SIZE)\n",
        "\n",
        "                    images.append(image)\n",
        "                \n",
        "                except:\n",
        "                    e += 1\n",
        "                    print(\"빈 파일이거나, OpenCV가 불러올 수 없는 확장자거나\")\n",
        "                    pass\n",
        "                \n",
        "        images = np.array(images, dtype = \"float32\")\n",
        "        if dataset == \"./train/\":\n",
        "            labels = np.array(labels, dtype = \"float32\")\n",
        "            output.append((images, labels))\n",
        "        else:\n",
        "            output.append(images)\n",
        "    \n",
        "    print(\"총 \" + str(e) + \"개의 에러.\")\n",
        "    print(\"데이터 로드 완료\")\n",
        "    print(str(len(output[0][0])) + \"개의 훈련데이터\")\n",
        "    print(str(len(output[0][1])) + \"개의 훈련라벨\")\n",
        "    print(str(len(output[1])) + \"개의 예측데이터\")\n",
        "    return output\n",
        "\n",
        "    \n",
        "((x_train, y_train),(x_test)) = load_data()\n",
        "\n",
        "#import pickle\n",
        "#with open(\"Augmented_Dataset.pickle\", \"wb\") as fw:\n",
        "#    pickle.dump(((x_train, y_train),x_test), fw)"
      ],
      "execution_count": 0,
      "outputs": [
        {
          "output_type": "stream",
          "text": [
            "  2%|▏         | 23/1191 [00:00<00:05, 227.69it/s]"
          ],
          "name": "stderr"
        },
        {
          "output_type": "stream",
          "text": [
            "Loading from ./train/\n",
            "raccoon\n",
            "5\n",
            "빈 파일이거나, OpenCV가 불러올 수 없는 확장자거나\n",
            "빈 파일이거나, OpenCV가 불러올 수 없는 확장자거나\n"
          ],
          "name": "stdout"
        },
        {
          "output_type": "stream",
          "text": [
            " 18%|█▊        | 212/1191 [00:00<00:04, 222.67it/s]"
          ],
          "name": "stderr"
        },
        {
          "output_type": "stream",
          "text": [
            "빈 파일이거나, OpenCV가 불러올 수 없는 확장자거나\n"
          ],
          "name": "stdout"
        },
        {
          "output_type": "stream",
          "text": [
            " 34%|███▎      | 400/1191 [00:01<00:03, 233.23it/s]"
          ],
          "name": "stderr"
        },
        {
          "output_type": "stream",
          "text": [
            "빈 파일이거나, OpenCV가 불러올 수 없는 확장자거나\n",
            "빈 파일이거나, OpenCV가 불러올 수 없는 확장자거나\n"
          ],
          "name": "stdout"
        },
        {
          "output_type": "stream",
          "text": [
            " 42%|████▏     | 501/1191 [00:02<00:02, 230.33it/s]"
          ],
          "name": "stderr"
        },
        {
          "output_type": "stream",
          "text": [
            "빈 파일이거나, OpenCV가 불러올 수 없는 확장자거나\n",
            "빈 파일이거나, OpenCV가 불러올 수 없는 확장자거나\n"
          ],
          "name": "stdout"
        },
        {
          "output_type": "stream",
          "text": [
            " 57%|█████▋    | 679/1191 [00:02<00:02, 248.77it/s]"
          ],
          "name": "stderr"
        },
        {
          "output_type": "stream",
          "text": [
            "빈 파일이거나, OpenCV가 불러올 수 없는 확장자거나\n",
            "빈 파일이거나, OpenCV가 불러올 수 없는 확장자거나\n",
            "빈 파일이거나, OpenCV가 불러올 수 없는 확장자거나\n"
          ],
          "name": "stdout"
        },
        {
          "output_type": "stream",
          "text": [
            " 67%|██████▋   | 801/1191 [00:03<00:01, 230.78it/s]"
          ],
          "name": "stderr"
        },
        {
          "output_type": "stream",
          "text": [
            "빈 파일이거나, OpenCV가 불러올 수 없는 확장자거나\n"
          ],
          "name": "stdout"
        },
        {
          "output_type": "stream",
          "text": [
            "100%|██████████| 1191/1191 [00:05<00:00, 230.97it/s]\n",
            "  0%|          | 0/1275 [00:00<?, ?it/s]"
          ],
          "name": "stderr"
        },
        {
          "output_type": "stream",
          "text": [
            "빈 파일이거나, OpenCV가 불러올 수 없는 확장자거나\n",
            "dog\n",
            "4\n"
          ],
          "name": "stdout"
        },
        {
          "output_type": "stream",
          "text": [
            " 13%|█▎        | 166/1275 [00:00<00:04, 231.47it/s]"
          ],
          "name": "stderr"
        },
        {
          "output_type": "stream",
          "text": [
            "빈 파일이거나, OpenCV가 불러올 수 없는 확장자거나\n"
          ],
          "name": "stdout"
        },
        {
          "output_type": "stream",
          "text": [
            " 28%|██▊       | 359/1275 [00:01<00:03, 234.73it/s]"
          ],
          "name": "stderr"
        },
        {
          "output_type": "stream",
          "text": [
            "빈 파일이거나, OpenCV가 불러올 수 없는 확장자거나\n"
          ],
          "name": "stdout"
        },
        {
          "output_type": "stream",
          "text": [
            " 40%|███▉      | 504/1275 [00:02<00:03, 232.40it/s]"
          ],
          "name": "stderr"
        },
        {
          "output_type": "stream",
          "text": [
            "빈 파일이거나, OpenCV가 불러올 수 없는 확장자거나\n"
          ],
          "name": "stdout"
        },
        {
          "output_type": "stream",
          "text": [
            " 59%|█████▊    | 749/1275 [00:03<00:02, 241.31it/s]"
          ],
          "name": "stderr"
        },
        {
          "output_type": "stream",
          "text": [
            "빈 파일이거나, OpenCV가 불러올 수 없는 확장자거나\n",
            "빈 파일이거나, OpenCV가 불러올 수 없는 확장자거나\n"
          ],
          "name": "stdout"
        },
        {
          "output_type": "stream",
          "text": [
            " 87%|████████▋ | 1110/1275 [00:04<00:00, 231.99it/s]"
          ],
          "name": "stderr"
        },
        {
          "output_type": "stream",
          "text": [
            "빈 파일이거나, OpenCV가 불러올 수 없는 확장자거나\n",
            "빈 파일이거나, OpenCV가 불러올 수 없는 확장자거나\n"
          ],
          "name": "stdout"
        },
        {
          "output_type": "stream",
          "text": [
            "100%|██████████| 1275/1275 [00:05<00:00, 233.53it/s]\n",
            "  2%|▏         | 22/1285 [00:00<00:05, 220.00it/s]"
          ],
          "name": "stderr"
        },
        {
          "output_type": "stream",
          "text": [
            "cat\n",
            "2\n"
          ],
          "name": "stdout"
        },
        {
          "output_type": "stream",
          "text": [
            "  7%|▋         | 95/1285 [00:00<00:05, 231.43it/s]"
          ],
          "name": "stderr"
        },
        {
          "output_type": "stream",
          "text": [
            "빈 파일이거나, OpenCV가 불러올 수 없는 확장자거나\n",
            "빈 파일이거나, OpenCV가 불러올 수 없는 확장자거나\n",
            "빈 파일이거나, OpenCV가 불러올 수 없는 확장자거나\n"
          ],
          "name": "stdout"
        },
        {
          "output_type": "stream",
          "text": [
            " 37%|███▋      | 481/1285 [00:02<00:03, 244.69it/s]"
          ],
          "name": "stderr"
        },
        {
          "output_type": "stream",
          "text": [
            "빈 파일이거나, OpenCV가 불러올 수 없는 확장자거나\n",
            "빈 파일이거나, OpenCV가 불러올 수 없는 확장자거나\n",
            "빈 파일이거나, OpenCV가 불러올 수 없는 확장자거나\n",
            "빈 파일이거나, OpenCV가 불러올 수 없는 확장자거나\n",
            "빈 파일이거나, OpenCV가 불러올 수 없는 확장자거나\n"
          ],
          "name": "stdout"
        },
        {
          "output_type": "stream",
          "text": [
            " 54%|█████▍    | 698/1285 [00:02<00:02, 228.76it/s]"
          ],
          "name": "stderr"
        },
        {
          "output_type": "stream",
          "text": [
            "빈 파일이거나, OpenCV가 불러올 수 없는 확장자거나\n",
            "빈 파일이거나, OpenCV가 불러올 수 없는 확장자거나\n"
          ],
          "name": "stdout"
        },
        {
          "output_type": "stream",
          "text": [
            " 66%|██████▌   | 844/1285 [00:03<00:01, 236.75it/s]"
          ],
          "name": "stderr"
        },
        {
          "output_type": "stream",
          "text": [
            "빈 파일이거나, OpenCV가 불러올 수 없는 확장자거나\n"
          ],
          "name": "stdout"
        },
        {
          "output_type": "stream",
          "text": [
            " 73%|███████▎  | 940/1285 [00:04<00:01, 233.50it/s]"
          ],
          "name": "stderr"
        },
        {
          "output_type": "stream",
          "text": [
            "빈 파일이거나, OpenCV가 불러올 수 없는 확장자거나\n"
          ],
          "name": "stdout"
        },
        {
          "output_type": "stream",
          "text": [
            " 86%|████████▋ | 1109/1285 [00:04<00:00, 235.26it/s]"
          ],
          "name": "stderr"
        },
        {
          "output_type": "stream",
          "text": [
            "빈 파일이거나, OpenCV가 불러올 수 없는 확장자거나\n"
          ],
          "name": "stdout"
        },
        {
          "output_type": "stream",
          "text": [
            "100%|██████████| 1285/1285 [00:05<00:00, 233.68it/s]\n",
            "  2%|▏         | 23/1232 [00:00<00:05, 228.66it/s]"
          ],
          "name": "stderr"
        },
        {
          "output_type": "stream",
          "text": [
            "seal\n",
            "7\n",
            "빈 파일이거나, OpenCV가 불러올 수 없는 확장자거나\n"
          ],
          "name": "stdout"
        },
        {
          "output_type": "stream",
          "text": [
            "\r  4%|▍         | 48/1232 [00:00<00:05, 232.78it/s]"
          ],
          "name": "stderr"
        }
      ]
    },
    {
      "cell_type": "markdown",
      "metadata": {
        "id": "kY6fUnq8q4oz",
        "colab_type": "text"
      },
      "source": [
        "## 직접 훈련데이터셋으로 만든 데이터를 파일로 저장하고 싶었습니다.\n",
        "그런데 용량이 커서 번번히 실패했습니다. 위로 부탁드립니다."
      ]
    },
    {
      "cell_type": "code",
      "metadata": {
        "id": "mMPnM75rD4IU",
        "colab_type": "code",
        "colab": {}
      },
      "source": [
        "np.savez_compressed('/content/drive/My Drive/Colab Notebooks/2ndparrot/2020_parrot_dataset/2020_parrot_dataset/NewSetArray.npz',\n",
        "                    x_train = x_train, y_train = y_train, x_test = x_test\n",
        ")\n"
      ],
      "execution_count": 0,
      "outputs": []
    },
    {
      "cell_type": "markdown",
      "metadata": {
        "id": "n11Lfle3um89",
        "colab_type": "text"
      },
      "source": [
        "# 결국 거인의 어깨를 빌리기로 했습니다."
      ]
    },
    {
      "cell_type": "markdown",
      "metadata": {
        "id": "cW9gF2LVtCyf",
        "colab_type": "text"
      },
      "source": [
        "## 데이터 증강\n",
        "데이터 증강을 시도했습니다.  \n",
        "분명 반복문을 통해 사진당 10번 증강을 시도하라 했는데 왜인지 6개씩 정도만 됐습니다.  \n",
        "컴퓨터가 사춘기인지 말을 안듣습니다.  \n",
        "\n",
        "\n",
        "그리고 이미지 데이터들 중 노이즈가 정말 많습니다.  \n",
        "예를 들어 열수 없는 확장자거나, 불러들일 수 없는 파일 등....\n",
        "그래서 try except 문으로 오류는 건너띄도록 했습니다.  \n",
        "이게 좋은 선택일지는 모르겠습니다....."
      ]
    },
    {
      "cell_type": "code",
      "metadata": {
        "id": "MCmkJg8qtCf-",
        "colab_type": "code",
        "colab": {}
      },
      "source": [
        "import os\n",
        "os.chdir(\"/content/drive/My Drive/Colab Notebooks/2ndparrot/2020_parrot_dataset/2020_parrot_dataset\")\n",
        "import tensorflow as tf\n",
        "from tensorflow.keras.preprocessing.image import ImageDataGenerator, array_to_img, img_to_array, load_img\n",
        "from tqdm import tqdm\n",
        "\n",
        "tf.keras.backend.clear_session()\n",
        "IDG = ImageDataGenerator(                               # ImageDataGenerator로 불러올 이미지 데이터에 대해 다음 옵션과 같은 작업을 수행해 줍니다.\n",
        "    rotation_range = 90,                                    # 90도까지 회전할 수 있도록 합니다.\n",
        "    width_shift_range = 0.1,                                # 너비의 0.1 비율 정도만큼을 움직일수 있도록 설정해줍니다.\n",
        "    height_shift_range= 0.1,                                # 높이의 일정 비율만큼을 움직일 수 있게 합니다.\n",
        "    brightness_range = [0.4 , 1],                           # 밝기를 현재 1이라 했을 때 0~1 사이의 값으로 밝기를 조절합니다.\n",
        "    zoom_range = [0.5,0.5],                                 # 현재 이미지로부터 1-min, 1+max 만큼 zoom in zoom out 하도록 설정해줍니다.\n",
        "    horizontal_flip = True,                                 # 상하반전을 할 수 있도록 설정합니다.\n",
        "    vertical_flip = True,                                   # 좌우반전을 할 수 있도록 설정해줍니다.\n",
        "    data_format = \"channels_last\")                          # 출력 데이터의 shape가 (개수, height, width, RGB channel) 순서가 되도록 합니다.\n",
        "\n",
        "for animal in list_classes:\n",
        "    animal_dir = os.path.join(\"./train/\", animal)\n",
        "    augmented_dir = os.path.join(\"./train/augmented\",animal)        # augmented라는 폴더에 증강된 파일들이 들어가도록 경로를 지정해줍니다.\n",
        "\n",
        "    print(\"현재 \" + animal + \" 폴더에 총 \" + str(len(os.listdir(animal_dir))) + \"개의 데이터가 있습니다.\\n\")\n",
        "    \n",
        "    for file_name in tqdm(os.listdir(animal_dir), desc = \"데이터 증강중...\"):       # tqdm이라는 라이브러리로 진행상황을 표시하도록 했습니다. (언제까지 기다려야할지 몰라서...)\n",
        "        try:\n",
        "            img = load_img(os.path.join(animal_dir,file_name))                   # 이미지파일을 불러온 후    \n",
        "            arrayed = img_to_array(img)                                          # 배열화 하고,\n",
        "            arrayed = arrayed.reshape((1,) + arrayed.shape)                      # shape을 바꿔준 다음,\n",
        "\n",
        "            i = 0\n",
        "\n",
        "            for batch in IDG.flow(arrayed, batch_size = 1, save_to_dir = augmented_dir,\n",
        "                                save_prefix = animal, save_format = \"PNG\"):      # 배열과 shape을 바꾼 파일을 위에서 정의한 ImageDataGenerator로 변형시켜줍니다.\n",
        "                i += 1  \n",
        "                if i > 10:                                                       # 이 작업을 사진 당 10번 하도록 설정합니다.\n",
        "                    break\n",
        "        except :\n",
        "            continue\n",
        "\n",
        "    print(\"이제 \" + animal + \" 카테고리에 총 \" + str(len(os.listdir(augmented_dir))) + \"개의 데이터가 추가되었습니다.\")  # 그런데 막상 해보니 사진당 거의 6개씩만 증강됐더군요....\n",
        "    print(\"---------------------------------------------\")\n",
        "```"
      ],
      "execution_count": 0,
      "outputs": []
    },
    {
      "cell_type": "markdown",
      "metadata": {
        "id": "JGAeOzaFsIXC",
        "colab_type": "text"
      },
      "source": [
        "인위적으로 증강시킨 데이터들을 NewSet이라는 폴더를 직접 만들어 그 안에 train 폴더 안에 있던 데이터들 , 그리고 augmented폴더에 새로 증간된 데이터들을 bear, bird, cat, deer, dog, raccoon, rat, seal에 맞게로 집어넣었습니다. 한 사진당 약 6개씩 증강되어 train 데이터에는 총 65000개 정도의 데이터가 있습니다.  \n",
        "\n",
        "\n",
        "현재 NewSet폴더의 데이터는 zip파일로 저장해둔 상태입니다. "
      ]
    },
    {
      "cell_type": "markdown",
      "metadata": {
        "id": "OcmPTcK-r7Lp",
        "colab_type": "text"
      },
      "source": [
        "## 데이터 로딩 2\n",
        "ImageDataGenerator이라는 메소드를 사용해 편리하게 데이터를 불러들여와봅니다.  \n",
        "다만 이번에는 전략을 달리했습니다."
      ]
    },
    {
      "cell_type": "markdown",
      "metadata": {
        "id": "FStGZnN2u3uC",
        "colab_type": "text"
      },
      "source": [
        "### 전략 수정\n",
        "원래 저는 test데이터에 라벨이 없어 ImageDataGenerator를 사용하지 않는 방향으로 가려 했습니다.  \n",
        "\n",
        "그러나, 어리석음을 깨달았습니다.  \n",
        "영욱님께서 validation set의 존재를 깨닫게 해주셨기 때문이죠.  \n",
        "그래서 이렇게 해볼 생각입니다.  \n",
        "NewSet에서 train data를 ImageDataGenerator를 통해 불러들이면서  \n",
        "7:3~8:2 비율로 validation set를 만들것입니다.   \n",
        "즉 real_train 데이터와 validation 데이터로 나누는 거죠.\n",
        "\n",
        "그리고 위에서 만든 VGG16모델에 real_train 데이터를 통해 학습을 시키고,  \n",
        "validation의 데이터를 통해 라벨을 예측하도록 하고,  \n",
        "실제 라벨과 비교해 validation score를 내볼 것입니다.  \n",
        "\n",
        "이후, 괜찮은 validation score을 내는 모델로 성능을 향상시킨 후 test 데이터에 적용시켜 예측시킨 다음 Kaggle에 제출할 계획입니다.  \n",
        "\n",
        "따라서 validationn score를 높이면서 under/overfitting을 예방하는 다양한 방법론들을 찾고 구현하는데 많은 시간을 쏟고,  \n",
        "그 이후에 test데이터를 얼른 예측시킨 다음 이번 competition을 마치고자 합니다.\n"
      ]
    },
    {
      "cell_type": "markdown",
      "metadata": {
        "id": "w-6rY8WZ47nl",
        "colab_type": "text"
      },
      "source": [
        "### 데이터 로딩 상세"
      ]
    },
    {
      "cell_type": "code",
      "metadata": {
        "id": "1u4srSkgggv7",
        "colab_type": "code",
        "outputId": "e3305b24-4e03-4d9b-ff75-90c13da04263",
        "colab": {
          "base_uri": "https://localhost:8080/",
          "height": 55
        }
      },
      "source": [
        "from tensorflow.keras.preprocessing.image import ImageDataGenerator\n",
        "import os\n",
        "os.chdir(\"/content/drive/My Drive/Colab Notebooks/2ndparrot/2020_parrot_dataset/2020_parrot_dataset\")\n",
        "\n",
        "datagen = ImageDataGenerator(                                                   # 위 셀에서 정의한 것과 같이 ImageDataGenerator를 정의합니다.\n",
        "                                                                                # 다만, 이번에는 데이터를 로딩하기 위함이니 이미 실행한 옵션은 지정하지 않습니다.    \n",
        "    rescale = 1./255,                   # 불러올 이미지 데이터의 픽셀값을 정규화하도록 합니다.\n",
        "    validation_split = 0.25,            # 불러올 데이터들 중 지정한 비율만큼을 검증데이터로 지정하도록 합니다.\n",
        "    data_format = \"channels_last\")      # 출력 데이터의 shape가 (개수, height, width, RGB channel) 순서가 되도록 합니다. \n",
        "\n",
        "test_datagen = ImageDataGenerator(rescale = 1./255)     # 테스트 데이터의 경우, 픽셀값 정규화만 해주면 됩니다.\n",
        "\n",
        "training_set = datagen.flow_from_directory('./NewSet/train',                    # 지정한 경로에서 폴더의 상하위구조를 파악해 데이터를 불러들이는 flow_from_directory 메소드를 사용합니다.\n",
        "                                           target_size = (64, 64),            # 데이터들의 크기를 224*224로 resize해주고\n",
        "                                           batch_size = 128,                    # 학습할때의 미니배치의 크기를 지정합니다. \n",
        "                                           class_mode = 'categorical',          # 목표가 다중 카테고리를 예측하는 것이니 categorical호 classmode를 설정합니다.\n",
        "                                           shuffle = True,                      # 데이터가 랜덤하게 뽑히도록 설정합니다.\n",
        "                                           seed = 2020,                         # 하지만, 매번 실행할때마다 결과가 달라지는 것을 막기 위해 시드값을 설정합니다.\n",
        "                                           subset = \"training\")                 # training_set이라는 변수에 담긴 데이터들은 학습데이터로 쓰이도록 training이라는 subset으로 지정해줍니다.\n",
        "\n",
        "valid_set = datagen.flow_from_directory('./NewSet/train',\n",
        "                                        target_size = (64, 64),\n",
        "                                        batch_size = 128,\n",
        "                                        class_mode = 'categorical',\n",
        "                                        shuffle = True,\n",
        "                                        seed = 2020,    \n",
        "                                        subset = \"validation\")                  # validation_set이라는 변수에 담긴 데이터들은 검증데이터로 쓰이도록 validation이라는 subset으로 지정해줍니다.\n",
        "\n",
        "\n",
        "\n",
        "\n",
        "\n"
      ],
      "execution_count": 0,
      "outputs": [
        {
          "output_type": "stream",
          "text": [
            "Found 51774 images belonging to 8 classes.\n",
            "Found 17253 images belonging to 8 classes.\n"
          ],
          "name": "stdout"
        }
      ]
    },
    {
      "cell_type": "markdown",
      "metadata": {
        "id": "LkUPY4Whuz27",
        "colab_type": "text"
      },
      "source": [
        "## 데이터 학습"
      ]
    },
    {
      "cell_type": "markdown",
      "metadata": {
        "id": "gItDD6Khj0Iw",
        "colab_type": "text"
      },
      "source": [
        "## 아아.... 그는 갔습니다...\n",
        "지금 train 데이터에 빈 파일이든 에러를 일으키는 파일 (저같은 경우 GIF파일) 들 떄문에...  \n",
        "이럴거면 초장에 그러지.... 근 네시간을 버텼는데....."
      ]
    },
    {
      "cell_type": "code",
      "metadata": {
        "id": "WNUNM9tOgg6b",
        "colab_type": "code",
        "outputId": "93904676-aecb-4779-dcf4-641d2c0fe8dc",
        "colab": {
          "base_uri": "https://localhost:8080/",
          "height": 55
        }
      },
      "source": [
        "history = model.fit(training_set,\n",
        "                    steps_per_epoch = training_set.samples/ training_set.batch_size,\n",
        "                    epochs = 5, \n",
        "                    validation_data = valid_set,\n",
        "                    validation_steps = valid_set.samples/ valid_set.batch_size,\n",
        "                    verbose = 1)"
      ],
      "execution_count": 0,
      "outputs": [
        {
          "output_type": "stream",
          "text": [
            "Epoch 1/5\n",
            " 11/404 [..............................] - ETA: 9:44:56 - loss: 2.0788 - accuracy: 0.1314"
          ],
          "name": "stdout"
        }
      ]
    },
    {
      "cell_type": "markdown",
      "metadata": {
        "id": "Aw9QzZsDghAn",
        "colab_type": "text"
      },
      "source": [
        "## Loss와 Accuracy 확인하기"
      ]
    },
    {
      "cell_type": "code",
      "metadata": {
        "id": "X2qjhwNQ6V2B",
        "colab_type": "code",
        "outputId": "42f056f1-f31a-4cdc-e883-2b15ceba505e",
        "colab": {
          "base_uri": "https://localhost:8080/",
          "height": 255
        }
      },
      "source": [
        "import matplotlib.pyplot as plt\n",
        "\n",
        "acc = history.history[\"acc\"]\n",
        "loss = history.history[\"loss\"]\n",
        "\n",
        "epochs = range(len(acc))\n",
        "\n",
        "plt.figure(figsize = (10, 6))\n",
        "plt.plot(epochs, acc, label = \"accuracy\")\n",
        "plt.plot(epochs, loss, label = \"loss\")\n",
        "plt.title(\"accuracy and loss\")\n",
        "plt.legend()\n",
        "\n",
        "plt.show()\n"
      ],
      "execution_count": 0,
      "outputs": [
        {
          "output_type": "error",
          "ename": "KeyError",
          "evalue": "ignored",
          "traceback": [
            "\u001b[0;31m---------------------------------------------------------------------------\u001b[0m",
            "\u001b[0;31mKeyError\u001b[0m                                  Traceback (most recent call last)",
            "\u001b[0;32m<ipython-input-4-ef8e4b7eea4d>\u001b[0m in \u001b[0;36m<module>\u001b[0;34m()\u001b[0m\n\u001b[1;32m      1\u001b[0m \u001b[0;32mimport\u001b[0m \u001b[0mmatplotlib\u001b[0m\u001b[0;34m.\u001b[0m\u001b[0mpyplot\u001b[0m \u001b[0;32mas\u001b[0m \u001b[0mplt\u001b[0m\u001b[0;34m\u001b[0m\u001b[0;34m\u001b[0m\u001b[0m\n\u001b[1;32m      2\u001b[0m \u001b[0;34m\u001b[0m\u001b[0m\n\u001b[0;32m----> 3\u001b[0;31m \u001b[0macc\u001b[0m \u001b[0;34m=\u001b[0m \u001b[0mhistory\u001b[0m\u001b[0;34m.\u001b[0m\u001b[0mhistory\u001b[0m\u001b[0;34m[\u001b[0m\u001b[0;34m\"acc\"\u001b[0m\u001b[0;34m]\u001b[0m\u001b[0;34m\u001b[0m\u001b[0;34m\u001b[0m\u001b[0m\n\u001b[0m\u001b[1;32m      4\u001b[0m \u001b[0mloss\u001b[0m \u001b[0;34m=\u001b[0m \u001b[0mhistory\u001b[0m\u001b[0;34m.\u001b[0m\u001b[0mhistory\u001b[0m\u001b[0;34m[\u001b[0m\u001b[0;34m\"loss\"\u001b[0m\u001b[0;34m]\u001b[0m\u001b[0;34m\u001b[0m\u001b[0;34m\u001b[0m\u001b[0m\n\u001b[1;32m      5\u001b[0m \u001b[0;34m\u001b[0m\u001b[0m\n",
            "\u001b[0;31mKeyError\u001b[0m: 'acc'"
          ]
        }
      ]
    },
    {
      "cell_type": "markdown",
      "metadata": {
        "id": "ozEYH0izBuU2",
        "colab_type": "text"
      },
      "source": [
        "# 오늘 회의할때....\n",
        "\n",
        "아무래도 제가 잘때 여러분들이 회의하실 것 같아 여기다가 먼저 오늘 발표할 때 얘기 할 만한 것을 제시해보겠습니다.\n",
        "\n",
        "- 한 주간 각자 진행해 온 것들. 스크린샷과 링크를 적극 활용해서 보여주면 좋을 것 같습니다.  \n",
        "제 경우 데이터증강에 성공했고, 이를 바탕으로 VGG16모델을 직접 쌓아본 후, 모델에 학습을 시키는 것이 목표였습니다.  \n",
        "하지만 보시다 시피 학습과정에서 시간이 너무나 오래 걸린다는 점과, train, test 데이터 내의 노이즈들로 인해 시행착오만을 겪었을 뿐 학습성과가 나진 않았습니다. \n",
        "\n",
        "- 제가 캐글이나 이미 공유된 곳에서 진행했어야 더 편하셨을텐데 또 생각없이 하다가 다른 노트북 켜서 여기서 진행했습니다.... 제거를 발표하실 때는 아마 스크린샷보다는 코랩 링크 타고서 주우욱 설명해주시면 될 것 같습니다.\n",
        "\n",
        "- 만약 이를 실해해보시고 싶으시다면, **<U>VGG16모델 직접 쌓아보기</U>**, **<U>데이터 로딩 상세</U>**, **<U>데이터 학습</U>** 을 구동시켜보시면 될 것 같습니다. 다만 데이터 경로들은 잘 설정해 주셔야 합니다!\n",
        "\n",
        "- 오늘 다연씨가 발표하실때 아무래도 그전에 저희 코드를 어느정도 읽고 가셔야 할텐데, 그러려면 시간이 오래 걸리실 것 같아 일단 최대한 설명을 주석과 마크다운으로 넣어놨습니다. "
      ]
    },
    {
      "cell_type": "markdown",
      "metadata": {
        "id": "uJ0Aj8GeyIIO",
        "colab_type": "text"
      },
      "source": [
        "# 5/20 새로 로딩하고 학습 시켜보겠습니다!\n",
        "저번에 피드백이 온대로 인풋데이터의 크기를 224에서 64로 줄였습니다.  \n",
        "64인 이유는 VGG모델처럼 여러 필터를 거치고, 풀링을 거치려면 어느정도 크기는 확보되어야 했기 때문입니다. 그 와중에 크기가 너무 크면 데이터의 크기 문제도 있기에 적당하ㄱ다고 생각 되는 64정도로 정했습니다.   \n",
        "\n",
        "\n",
        "input shape를 64*64 정도로 맞췄기에 필터와 풀링의 수를 조절했습니다.  \n",
        "이는 위에 VGG16모델 직접 쌓아올리기에서 확인하실 수 있습니다.  \n",
        "\n",
        "\n"
      ]
    },
    {
      "cell_type": "code",
      "metadata": {
        "id": "v1YRrlTnnKgd",
        "colab_type": "code",
        "outputId": "09be33b8-ac42-4014-cf9a-c4a12fd834e0",
        "colab": {
          "base_uri": "https://localhost:8080/",
          "height": 1000
        }
      },
      "source": [
        "import tensorflow as tf\n",
        "import numpy as np\n",
        "import cv2\n",
        "from tensorflow.keras.preprocessing.image import ImageDataGenerator\n",
        "import os\n",
        "\n",
        "os.chdir(\"/content/drive/My Drive/Colab Notebooks/2ndparrot/2020_parrot_dataset/2020_parrot_dataset\")\n",
        "\n",
        "train_datagen = ImageDataGenerator(                               # ImageDataGenerator로 불러올 이미지 데이터에 대해 다음 옵션과 같은 작업을 수행해 줍니다.\n",
        "            rotation_range = 25,                                    # 25도까지 회전할 수 있도록 합니다.\n",
        "            width_shift_range = 0.1,                                # 너비의 0.1 비율 정도만큼을 움직일수 있도록 설정해줍니다.\n",
        "            height_shift_range= 0.1,                                # 높이의 일정 비율만큼을 움직일 수 있게 합니다.\n",
        "            brightness_range = [0.4 , 1],                           # 밝기를 현재 1이라 했을 때 0~1 사이의 값으로 밝기를 조절합니다.\n",
        "            zoom_range = [0.3,0.3],                                 # 현재 이미지로부터 1-min, 1+max 만큼 zoom in zoom out 하도록 설정해줍니다.\n",
        "            horizontal_flip = True,                                 # 상하반전을 할 수 있도록 설정합니다.\n",
        "            vertical_flip = True,                                   # 좌우반전을 할 수 있도록 설정해줍니다.\n",
        "            validation_split = 0.25,                                # 불러올 데이터들 중 지정한 비율만큼을 검증데이터로 지정하도록 합니다.\n",
        "            data_format = \"channels_last\")                          # 출력 데이터의 shape가 (개수, height, width, RGB channel) 순서가 되도록 합니다. \n",
        "\n",
        "valid_datagen = ImageDataGenerator(rescale = 1./255,\n",
        "                                   validation_split = 0.25)     # 테스트 데이터의 경우, 픽셀값 정규화만 해주면 됩니다.\n",
        "test_datagen = ImageDataGenerator(rescale = 1./255)     # 테스트 데이터의 경우, 픽셀값 정규화만 해주면 됩니다.\n",
        "\n",
        "\n",
        "batch_size = 128\n",
        "target_size = (64,64)\n",
        "iterations = 5\n",
        "\n",
        "\n",
        "training_set = train_datagen.flow_from_directory('./train',                    # 지정한 경로에서 폴더의 상하위구조를 파악해 데이터를 불러들이는 flow_from_directory 메소드를 사용합니다.\n",
        "                                           target_size = target_size,            # 데이터들의 크기를 224*224로 resize해주고\n",
        "                                           batch_size = batch_size,                    # 학습할때의 미니배치의 크기를 지정합니다. \n",
        "                                           class_mode = 'categorical',          # 목표가 다중 카테고리를 예측하는 것이니 categorical호 classmode를 설정합니다.\n",
        "                                           shuffle = True,                      # 데이터가 랜덤하게 뽑히도록 설정합니다.\n",
        "                                           seed = 2020,                         # 하지만, 매번 실행할때마다 결과가 달라지는 것을 막기 위해 시드값을 설정합니다.\n",
        "                                           interpolation = \"nearest\",\n",
        "                                           subset = \"training\")                 # training_set이라는 변수에 담긴 데이터들은 학습데이터로 쓰이도록 training이라는 subset으로 지정해줍니다.\n",
        "\n",
        "valid_set = train_datagen.flow_from_directory('./train',\n",
        "                                        target_size = target_size,\n",
        "                                        batch_size = batch_size,\n",
        "                                        class_mode = 'categorical',\n",
        "                                        shuffle = True,\n",
        "                                        seed = 2020,    \n",
        "                                        interpolation = \"nearest\",\n",
        "                                        subset = \"validation\")                  # validation_set이라는 변수에 담긴 데이터들은 검증데이터로 쓰이도록 validation이라는 subset으로 지정해줍니다.\n",
        "\n",
        "x_train, y_train = training_set.next()\n",
        "\n",
        "history = model.fit(training_set,                                               # fit 함수를 통해 데이터를 학습시켜보겠습니다.\n",
        "                    steps_per_epoch = training_set.samples/ training_set.batch_size,  # epoch당 step은 training set 샘플 수를 샘플의 바치 크기 만큼, 즉 배치에 담긴 데이터 수만큼 지정해줍니다. \n",
        "                    epochs = 50,                                                      # 반복 횟수인 epoch는 50 번 정도로 맞췄습니다.\n",
        "                    validation_data = valid_set,                                      # 검증데이터는 검증데이터대로 지정해줍니다. \n",
        "                    validation_steps = valid_set.samples/ valid_set.batch_size,\n",
        "                    verbose = 1)                                                      # 이 과ㅏ정을 마친 결과를 history라는 변수에 담아 실해 시킵니다.\n",
        "\n",
        "\n",
        "\n",
        "\n",
        "\n"
      ],
      "execution_count": 0,
      "outputs": [
        {
          "output_type": "stream",
          "text": [
            "Found 7329 images belonging to 8 classes.\n",
            "Found 2440 images belonging to 8 classes.\n"
          ],
          "name": "stdout"
        },
        {
          "output_type": "stream",
          "text": [
            "/usr/local/lib/python3.6/dist-packages/PIL/Image.py:932: UserWarning: Palette images with Transparency expressed in bytes should be converted to RGBA images\n",
            "  \"Palette images with Transparency expressed in bytes should be \"\n"
          ],
          "name": "stderr"
        },
        {
          "output_type": "stream",
          "text": [
            "Epoch 1/50\n",
            "58/57 [==============================] - 94s 2s/step - loss: 1.6869 - accuracy: 0.3810 - val_loss: 1.8059 - val_accuracy: 0.3295\n",
            "Epoch 2/50\n",
            "58/57 [==============================] - 94s 2s/step - loss: 1.6875 - accuracy: 0.3815 - val_loss: 1.6183 - val_accuracy: 0.4057\n",
            "Epoch 3/50\n",
            "58/57 [==============================] - 94s 2s/step - loss: 1.6745 - accuracy: 0.3844 - val_loss: 1.6093 - val_accuracy: 0.4184\n",
            "Epoch 4/50\n",
            "58/57 [==============================] - 93s 2s/step - loss: 1.6759 - accuracy: 0.3861 - val_loss: 1.6661 - val_accuracy: 0.3975\n",
            "Epoch 5/50\n",
            "58/57 [==============================] - 93s 2s/step - loss: 1.6682 - accuracy: 0.3921 - val_loss: 1.5949 - val_accuracy: 0.4107\n",
            "Epoch 6/50\n",
            "58/57 [==============================] - 93s 2s/step - loss: 1.6557 - accuracy: 0.3961 - val_loss: 1.6625 - val_accuracy: 0.3742\n",
            "Epoch 7/50\n",
            "58/57 [==============================] - 94s 2s/step - loss: 1.6684 - accuracy: 0.3919 - val_loss: 1.7719 - val_accuracy: 0.3455\n",
            "Epoch 8/50\n",
            "58/57 [==============================] - 93s 2s/step - loss: 1.6654 - accuracy: 0.3879 - val_loss: 1.6157 - val_accuracy: 0.4094\n",
            "Epoch 9/50\n",
            "58/57 [==============================] - 94s 2s/step - loss: 1.6599 - accuracy: 0.3949 - val_loss: 1.7111 - val_accuracy: 0.3557\n",
            "Epoch 10/50\n",
            "58/57 [==============================] - 94s 2s/step - loss: 1.6705 - accuracy: 0.3908 - val_loss: 1.6990 - val_accuracy: 0.3672\n",
            "Epoch 11/50\n",
            "58/57 [==============================] - 93s 2s/step - loss: 1.6596 - accuracy: 0.3904 - val_loss: 1.5643 - val_accuracy: 0.4344\n",
            "Epoch 12/50\n",
            "58/57 [==============================] - 93s 2s/step - loss: 1.6505 - accuracy: 0.3987 - val_loss: 1.6068 - val_accuracy: 0.4119\n",
            "Epoch 13/50\n",
            "58/57 [==============================] - 94s 2s/step - loss: 1.6549 - accuracy: 0.3965 - val_loss: 1.8316 - val_accuracy: 0.3012\n",
            "Epoch 14/50\n",
            "58/57 [==============================] - 94s 2s/step - loss: 1.6559 - accuracy: 0.3943 - val_loss: 1.6180 - val_accuracy: 0.3861\n",
            "Epoch 15/50\n",
            "58/57 [==============================] - 93s 2s/step - loss: 1.6456 - accuracy: 0.3960 - val_loss: 1.5587 - val_accuracy: 0.4295\n",
            "Epoch 16/50\n",
            "58/57 [==============================] - 93s 2s/step - loss: 1.6355 - accuracy: 0.4021 - val_loss: 1.5889 - val_accuracy: 0.4164\n",
            "Epoch 17/50\n",
            "58/57 [==============================] - 94s 2s/step - loss: 1.6420 - accuracy: 0.3931 - val_loss: 1.6340 - val_accuracy: 0.4131\n",
            "Epoch 18/50\n",
            "58/57 [==============================] - 93s 2s/step - loss: 1.6424 - accuracy: 0.4014 - val_loss: 1.6014 - val_accuracy: 0.4135\n",
            "Epoch 19/50\n",
            "58/57 [==============================] - 94s 2s/step - loss: 1.6421 - accuracy: 0.4043 - val_loss: 1.7756 - val_accuracy: 0.3029\n",
            "Epoch 20/50\n",
            "58/57 [==============================] - 93s 2s/step - loss: 1.6443 - accuracy: 0.4022 - val_loss: 1.6390 - val_accuracy: 0.3955\n",
            "Epoch 21/50\n",
            "58/57 [==============================] - 93s 2s/step - loss: 1.6342 - accuracy: 0.4006 - val_loss: 1.5864 - val_accuracy: 0.4168\n",
            "Epoch 22/50\n",
            "58/57 [==============================] - 94s 2s/step - loss: 1.6313 - accuracy: 0.4107 - val_loss: 1.5615 - val_accuracy: 0.4311\n",
            "Epoch 23/50\n",
            "58/57 [==============================] - 94s 2s/step - loss: 1.6269 - accuracy: 0.4087 - val_loss: 1.5790 - val_accuracy: 0.4123\n",
            "Epoch 24/50\n",
            "58/57 [==============================] - 94s 2s/step - loss: 1.6170 - accuracy: 0.4181 - val_loss: 1.5912 - val_accuracy: 0.4213\n",
            "Epoch 25/50\n",
            "58/57 [==============================] - 94s 2s/step - loss: 1.6191 - accuracy: 0.4157 - val_loss: 1.5811 - val_accuracy: 0.4148\n",
            "Epoch 26/50\n",
            "58/57 [==============================] - 95s 2s/step - loss: 1.6123 - accuracy: 0.4149 - val_loss: 1.5198 - val_accuracy: 0.4553\n",
            "Epoch 27/50\n",
            "58/57 [==============================] - 93s 2s/step - loss: 1.6212 - accuracy: 0.4123 - val_loss: 1.5681 - val_accuracy: 0.4238\n",
            "Epoch 28/50\n",
            "58/57 [==============================] - 94s 2s/step - loss: 1.6189 - accuracy: 0.4108 - val_loss: 1.5483 - val_accuracy: 0.4295\n",
            "Epoch 29/50\n",
            "58/57 [==============================] - 93s 2s/step - loss: 1.6032 - accuracy: 0.4145 - val_loss: 1.5427 - val_accuracy: 0.4373\n",
            "Epoch 30/50\n",
            "58/57 [==============================] - 93s 2s/step - loss: 1.5997 - accuracy: 0.4224 - val_loss: 1.6433 - val_accuracy: 0.3914\n",
            "Epoch 31/50\n",
            "58/57 [==============================] - 93s 2s/step - loss: 1.6158 - accuracy: 0.4092 - val_loss: 1.7726 - val_accuracy: 0.3734\n",
            "Epoch 32/50\n",
            "58/57 [==============================] - 93s 2s/step - loss: 1.6116 - accuracy: 0.4108 - val_loss: 1.6091 - val_accuracy: 0.4213\n",
            "Epoch 33/50\n",
            "58/57 [==============================] - 93s 2s/step - loss: 1.5998 - accuracy: 0.4197 - val_loss: 1.5282 - val_accuracy: 0.4418\n",
            "Epoch 34/50\n",
            "58/57 [==============================] - 93s 2s/step - loss: 1.5976 - accuracy: 0.4241 - val_loss: 1.5213 - val_accuracy: 0.4471\n",
            "Epoch 35/50\n",
            "58/57 [==============================] - 92s 2s/step - loss: 1.5973 - accuracy: 0.4242 - val_loss: 1.5100 - val_accuracy: 0.4557\n",
            "Epoch 36/50\n",
            "58/57 [==============================] - 93s 2s/step - loss: 1.5859 - accuracy: 0.4260 - val_loss: 1.6264 - val_accuracy: 0.4074\n",
            "Epoch 37/50\n",
            "58/57 [==============================] - 94s 2s/step - loss: 1.5956 - accuracy: 0.4208 - val_loss: 1.5951 - val_accuracy: 0.4303\n",
            "Epoch 38/50\n",
            "58/57 [==============================] - 94s 2s/step - loss: 1.5810 - accuracy: 0.4260 - val_loss: 1.5864 - val_accuracy: 0.4025\n",
            "Epoch 39/50\n",
            "58/57 [==============================] - 93s 2s/step - loss: 1.5845 - accuracy: 0.4279 - val_loss: 1.5029 - val_accuracy: 0.4590\n",
            "Epoch 40/50\n",
            "58/57 [==============================] - 93s 2s/step - loss: 1.5797 - accuracy: 0.4284 - val_loss: 1.5365 - val_accuracy: 0.4422\n",
            "Epoch 41/50\n",
            "58/57 [==============================] - 93s 2s/step - loss: 1.5910 - accuracy: 0.4209 - val_loss: 1.5588 - val_accuracy: 0.4348\n",
            "Epoch 42/50\n",
            "58/57 [==============================] - 93s 2s/step - loss: 1.5731 - accuracy: 0.4303 - val_loss: 1.4946 - val_accuracy: 0.4668\n",
            "Epoch 43/50\n",
            "58/57 [==============================] - 94s 2s/step - loss: 1.5619 - accuracy: 0.4409 - val_loss: 1.5445 - val_accuracy: 0.4430\n",
            "Epoch 44/50\n",
            "58/57 [==============================] - 93s 2s/step - loss: 1.5784 - accuracy: 0.4358 - val_loss: 1.5493 - val_accuracy: 0.4365\n",
            "Epoch 45/50\n",
            "58/57 [==============================] - 92s 2s/step - loss: 1.5658 - accuracy: 0.4374 - val_loss: 1.7184 - val_accuracy: 0.3779\n",
            "Epoch 46/50\n",
            "58/57 [==============================] - 93s 2s/step - loss: 1.5673 - accuracy: 0.4321 - val_loss: 1.5038 - val_accuracy: 0.4508\n",
            "Epoch 47/50\n",
            "58/57 [==============================] - 93s 2s/step - loss: 1.5656 - accuracy: 0.4353 - val_loss: 1.6240 - val_accuracy: 0.4139\n",
            "Epoch 48/50\n",
            "58/57 [==============================] - 94s 2s/step - loss: 1.5811 - accuracy: 0.4305 - val_loss: 1.5057 - val_accuracy: 0.4701\n",
            "Epoch 49/50\n",
            "58/57 [==============================] - 94s 2s/step - loss: 1.5596 - accuracy: 0.4306 - val_loss: 1.5672 - val_accuracy: 0.4328\n",
            "Epoch 50/50\n",
            "58/57 [==============================] - 92s 2s/step - loss: 1.5553 - accuracy: 0.4475 - val_loss: 1.5598 - val_accuracy: 0.4230\n"
          ],
          "name": "stdout"
        }
      ]
    },
    {
      "cell_type": "markdown",
      "metadata": {
        "id": "tYLGGir4AYiP",
        "colab_type": "text"
      },
      "source": [
        "사실 이 과정을 여러번 하느라 4~5번 정도 돌렸는데  \n",
        "처음 돌렸을 때 accurary는 한 13%정도 나왔습니다.  \n",
        "지금 여기서 보여주는 accuracy같은 경우는 44%정도 되는데,  \n",
        "아마 여러번 돌렸더니, model에 학습이 쌓여 accuracy가 올라간 것으로 보입니다.  \n",
        "만약 이를 그대로 예측시키면 overfitting이 일어날 것을 생각됩니다.  \n",
        "그리고 아직 데이터를 실시간으로 증강해서 training set에 담는 과정은 실현하지 못했습니다.  \n",
        "아직 그 과정을 어떻게 해야 하는지 감이 안서네요..."
      ]
    },
    {
      "cell_type": "code",
      "metadata": {
        "id": "RgnPPLhQ0l2M",
        "colab_type": "code",
        "outputId": "274ccc57-1dee-49cd-dce2-e63485d07c41",
        "colab": {
          "base_uri": "https://localhost:8080/",
          "height": 55
        }
      },
      "source": [
        "score = model.evaluate(valid_set[0][0], valid_set[0][1], verbose = 1)\n",
        "score[1]"
      ],
      "execution_count": 0,
      "outputs": [
        {
          "output_type": "stream",
          "text": [
            "4/4 [==============================] - 0s 52ms/step - loss: 1.4412 - accuracy: 0.4453\n"
          ],
          "name": "stdout"
        },
        {
          "output_type": "execute_result",
          "data": {
            "text/plain": [
              "0.4453125"
            ]
          },
          "metadata": {
            "tags": []
          },
          "execution_count": 44
        }
      ]
    },
    {
      "cell_type": "code",
      "metadata": {
        "id": "gH5384GY0l5D",
        "colab_type": "code",
        "outputId": "0d27a6e9-ede3-4871-fa47-011e0b85c71e",
        "colab": {
          "base_uri": "https://localhost:8080/",
          "height": 278
        }
      },
      "source": [
        "def acc_loss_plot(history):\n",
        "    fig, loss_ax = plt.subplots()\n",
        "    acc_ax = loss_ax.twinx()\n",
        "\n",
        "    loss_ax.plot(history.history['loss'], 'y', label='train loss')\n",
        "    loss_ax.plot(history.history['val_loss'], 'r', label='val loss')\n",
        "    loss_ax.set_xlabel('epoch')\n",
        "    loss_ax.set_ylabel('loss')\n",
        "    loss_ax.legend(loc='upper left')\n",
        "\n",
        "    acc_ax.plot(history.history['accuracy'], 'b', label='train acc')\n",
        "    acc_ax.plot(history.history['val_accuracy'], 'g', label='val acc')\n",
        "    acc_ax.set_ylabel('accuracy')\n",
        "    acc_ax.legend(loc='upper right')\n",
        "\n",
        "    plt.show()\n",
        "\n",
        "acc_loss_plot(history)"
      ],
      "execution_count": 0,
      "outputs": [
        {
          "output_type": "display_data",
          "data": {
            "image/png": "[encoded data removed]",
            "text/plain": [
              "<Figure size 432x288 with 2 Axes>"
            ]
          },
          "metadata": {
            "tags": [],
            "needs_background": "light"
          }
        }
      ]
    },
    {
      "cell_type": "markdown",
      "metadata": {
        "id": "_cyxTNoHjIIQ",
        "colab_type": "text"
      },
      "source": [
        "# Transfer Learning"
      ]
    },
    {
      "cell_type": "code",
      "metadata": {
        "id": "MjY-gnng0l8S",
        "colab_type": "code",
        "outputId": "ea6d6091-1ab6-404b-9e5c-27ca9efed101",
        "colab": {
          "base_uri": "https://localhost:8080/",
          "height": 1000
        }
      },
      "source": [
        "from tensorflow.keras import Input\n",
        "import matplotlib as aplt\n",
        "import tensorflow as tf\n",
        "import numpy as np\n",
        "import cv2\n",
        "from tensorflow.keras.preprocessing.image import ImageDataGenerator\n",
        "import os\n",
        "import tensorflow as tf\n",
        "from tensorflow.keras.preprocessing.image import load_img, img_to_array\n",
        "from tensorflow.keras.applications.vgg16 import preprocess_input, decode_predictions, VGG16\n",
        "import numpy as np\n",
        "\n",
        "os.chdir(\"/content/drive/My Drive/Colab Notebooks/2ndparrot/2020_parrot_dataset/2020_parrot_dataset\")\n",
        "\n",
        "train_datagen = ImageDataGenerator(                               # ImageDataGenerator로 불러올 이미지 데이터에 대해 다음 옵션과 같은 작업을 수행해 줍니다.\n",
        "            rotation_range = 25,                                    # 25도까지 회전할 수 있도록 합니다.\n",
        "            width_shift_range = 0.1,                                # 너비의 0.1 비율 정도만큼을 움직일수 있도록 설정해줍니다.\n",
        "            height_shift_range= 0.1,                                # 높이의 일정 비율만큼을 움직일 수 있게 합니다.\n",
        "            brightness_range = [0.4 , 1],                           # 밝기를 현재 1이라 했을 때 0~1 사이의 값으로 밝기를 조절합니다.\n",
        "            zoom_range = [0.3,0.3],                                 # 현재 이미지로부터 1-min, 1+max 만큼 zoom in zoom out 하도록 설정해줍니다.\n",
        "            horizontal_flip = True,                                 # 상하반전을 할 수 있도록 설정합니다.\n",
        "            vertical_flip = True,                                   # 좌우반전을 할 수 있도록 설정해줍니다.\n",
        "            validation_split = 0.25,                                # 불러올 데이터들 중 지정한 비율만큼을 검증데이터로 지정하도록 합니다.\n",
        "            data_format = \"channels_last\")                          # 출력 데이터의 shape가 (개수, height, width, RGB channel) 순서가 되도록 합니다. \n",
        "\n",
        "valid_datagen = ImageDataGenerator(rescale = 1./255,\n",
        "                                   validation_split = 0.25)     # 테스트 데이터의 경우, 픽셀값 정규화만 해주면 됩니다.\n",
        "test_datagen = ImageDataGenerator(rescale = 1./255)     # 테스트 데이터의 경우, 픽셀값 정규화만 해주면 됩니다.\n",
        "\n",
        "\n",
        "batch_size = 128\n",
        "target_size = (224,224)\n",
        "iterations = 5\n",
        "\n",
        "\n",
        "training_set = train_datagen.flow_from_directory('./train',                    # 지정한 경로에서 폴더의 상하위구조를 파악해 데이터를 불러들이는 flow_from_directory 메소드를 사용합니다.\n",
        "                                           target_size = target_size,            # 데이터들의 크기를 224*224로 resize해주고\n",
        "                                           batch_size = batch_size,                    # 학습할때의 미니배치의 크기를 지정합니다. \n",
        "                                           class_mode = 'categorical',          # 목표가 다중 카테고리를 예측하는 것이니 categorical호 classmode를 설정합니다.\n",
        "                                           shuffle = True,                      # 데이터가 랜덤하게 뽑히도록 설정합니다.\n",
        "                                           seed = 2020,                         # 하지만, 매번 실행할때마다 결과가 달라지는 것을 막기 위해 시드값을 설정합니다.\n",
        "                                           interpolation = \"nearest\",\n",
        "                                           subset = \"training\")                 # training_set이라는 변수에 담긴 데이터들은 학습데이터로 쓰이도록 training이라는 subset으로 지정해줍니다.\n",
        "\n",
        "valid_set = train_datagen.flow_from_directory('./train',\n",
        "                                        target_size = target_size,\n",
        "                                        batch_size = batch_size,\n",
        "                                        class_mode = 'categorical',\n",
        "                                        shuffle = True,\n",
        "                                        seed = 2020,    \n",
        "                                        interpolation = \"nearest\",\n",
        "                                        subset = \"validation\")                  # validation_set이라는 변수에 담긴 데이터들은 검증데이터로 쓰이도록 validation이라는 subset으로 지정해줍니다.\n",
        "\n",
        "x_train, y_train = training_set.next()\n",
        "\n",
        "\n",
        "\n",
        "pre_VGG = VGG16(weights = \"imagenet\", include_top = False, input_shape = (224,224,3))\n",
        "pre_VGG.trainable = False\n",
        "\n",
        "\n",
        "\n",
        "\n",
        "\n",
        "input_tensor = Input(shape=(220,220,3,), dtype='float32', name='input')\n",
        "\n",
        "additional_model = tf.keras.models.Sequential()\n",
        "additional_model.add(pre_VGG)\n",
        "additional_model.add(tf.keras.layers.Flatten())\n",
        "additional_model.add(tf.keras.layers.Dense(4096, activation='relu'))\n",
        "additional_model.add(tf.keras.layers.Dense(4096, activation='relu'))\n",
        "additional_model.add(tf.keras.layers.Dense(4096, activation='relu'))\n",
        "additional_model.add(tf.keras.layers.Dense(8, activation='softmax'))\n",
        " \n",
        "additional_model.compile(loss = 'categorical_crossentropy', optimizer = 'sgd', metrics = ['accuracy'])    # 찾아본 바로는 VGG16모델이 최적화 함수를 sgd를 사용한다길래 이를 차용했습니다.\n",
        "\n",
        "additional_model.summary()\n",
        "\n",
        "\n",
        "history = additional_model.fit(training_set,                                               # fit 함수를 통해 데이터를 학습시켜보겠습니다.\n",
        "                    steps_per_epoch = training_set.samples/ training_set.batch_size,  # epoch당 step은 training set 샘플 수를 샘플의 바치 크기 만큼, 즉 배치에 담긴 데이터 수만큼 지정해줍니다. \n",
        "                    epochs = 10,                                                      # 반복 횟수인 epoch는 50 번 정도로 맞췄습니다.\n",
        "                    validation_data = valid_set,                                      # 검증데이터는 검증데이터대로 지정해줍니다. \n",
        "                    validation_steps = valid_set.samples/ valid_set.batch_size,\n",
        "                    verbose = 1)                                                      # 이 과ㅏ정을 마친 결과를 history라는 변수에 담아 실해 시킵니다.\n",
        "\n",
        "\n",
        "score = additional_model.evaluate(valid_set[0][0], valid_set[0][1], verbose = 1)\n",
        "print(\"the score is ... : \" + str(score[1]))\n",
        "\n",
        "\n",
        "\n",
        "def acc_loss_plot(history):\n",
        "    fig, loss_ax = plt.subplots()\n",
        "    acc_ax = loss_ax.twinx()\n",
        "\n",
        "    loss_ax.plot(history.history['loss'], 'y', label='train loss')\n",
        "    loss_ax.plot(history.history['val_loss'], 'r', label='val loss')\n",
        "    loss_ax.set_xlabel('epoch')\n",
        "    loss_ax.set_ylabel('loss')\n",
        "    loss_ax.legend(loc='upper left')\n",
        "\n",
        "    acc_ax.plot(history.history['accuracy'], 'b', label='train acc')\n",
        "    acc_ax.plot(history.history['val_accuracy'], 'g', label='val acc')\n",
        "    acc_ax.set_ylabel('accuracy')\n",
        "    acc_ax.legend(loc='upper right')\n",
        "\n",
        "    plt.show()\n",
        "\n",
        "acc_loss_plot(history)\n"
      ],
      "execution_count": 0,
      "outputs": [
        {
          "output_type": "stream",
          "text": [
            "Found 7329 images belonging to 8 classes.\n",
            "Found 2440 images belonging to 8 classes.\n",
            "Model: \"sequential_2\"\n",
            "_________________________________________________________________\n",
            "Layer (type)                 Output Shape              Param #   \n",
            "=================================================================\n",
            "vgg16 (Model)                (None, 7, 7, 512)         14714688  \n",
            "_________________________________________________________________\n",
            "flatten_1 (Flatten)          (None, 25088)             0         \n",
            "_________________________________________________________________\n",
            "dense_4 (Dense)              (None, 4096)              102764544 \n",
            "_________________________________________________________________\n",
            "dense_5 (Dense)              (None, 4096)              16781312  \n",
            "_________________________________________________________________\n",
            "dense_6 (Dense)              (None, 4096)              16781312  \n",
            "_________________________________________________________________\n",
            "dense_7 (Dense)              (None, 8)                 32776     \n",
            "=================================================================\n",
            "Total params: 151,074,632\n",
            "Trainable params: 136,359,944\n",
            "Non-trainable params: 14,714,688\n",
            "_________________________________________________________________\n",
            "Epoch 1/10\n",
            "13/57 [=====>........................] - ETA: 30:48 - loss: 12.8214 - accuracy: 0.1778"
          ],
          "name": "stdout"
        },
        {
          "output_type": "stream",
          "text": [
            "/usr/local/lib/python3.6/dist-packages/PIL/Image.py:932: UserWarning: Palette images with Transparency expressed in bytes should be converted to RGBA images\n",
            "  \"Palette images with Transparency expressed in bytes should be \"\n"
          ],
          "name": "stderr"
        },
        {
          "output_type": "stream",
          "text": [
            "58/57 [==============================] - 3254s 56s/step - loss: 4.3032 - accuracy: 0.2601 - val_loss: 1.7487 - val_accuracy: 0.3758\n",
            "Epoch 2/10\n",
            "58/57 [==============================] - 292s 5s/step - loss: 1.7094 - accuracy: 0.3818 - val_loss: 1.6201 - val_accuracy: 0.4143\n",
            "Epoch 3/10\n",
            "58/57 [==============================] - 291s 5s/step - loss: 1.5830 - accuracy: 0.4391 - val_loss: 1.5239 - val_accuracy: 0.4639\n",
            "Epoch 4/10\n",
            "58/57 [==============================] - 293s 5s/step - loss: 1.5015 - accuracy: 0.4777 - val_loss: 1.4938 - val_accuracy: 0.4660\n",
            "Epoch 5/10\n",
            "58/57 [==============================] - 291s 5s/step - loss: 1.4594 - accuracy: 0.4833 - val_loss: 1.3689 - val_accuracy: 0.5299\n",
            "Epoch 6/10\n",
            "58/57 [==============================] - 296s 5s/step - loss: 1.3968 - accuracy: 0.5104 - val_loss: 1.4045 - val_accuracy: 0.5246\n",
            "Epoch 7/10\n",
            "58/57 [==============================] - 299s 5s/step - loss: 1.3585 - accuracy: 0.5212 - val_loss: 1.3050 - val_accuracy: 0.5512\n",
            "Epoch 8/10\n",
            "58/57 [==============================] - 303s 5s/step - loss: 1.3298 - accuracy: 0.5388 - val_loss: 1.2788 - val_accuracy: 0.5537\n",
            "Epoch 9/10\n",
            "58/57 [==============================] - 304s 5s/step - loss: 1.3160 - accuracy: 0.5458 - val_loss: 1.2963 - val_accuracy: 0.5561\n",
            "Epoch 10/10\n",
            "58/57 [==============================] - 306s 5s/step - loss: 1.2655 - accuracy: 0.5661 - val_loss: 1.2633 - val_accuracy: 0.5553\n",
            "4/4 [==============================] - 3s 679ms/step - loss: 1.2524 - accuracy: 0.6016\n",
            "the score is ... : 0.6015625\n"
          ],
          "name": "stdout"
        },
        {
          "output_type": "error",
          "ename": "NameError",
          "evalue": "ignored",
          "traceback": [
            "\u001b[0;31m---------------------------------------------------------------------------\u001b[0m",
            "\u001b[0;31mNameError\u001b[0m                                 Traceback (most recent call last)",
            "\u001b[0;32m<ipython-input-7-1b685ddd3a04>\u001b[0m in \u001b[0;36m<module>\u001b[0;34m()\u001b[0m\n\u001b[1;32m    108\u001b[0m     \u001b[0mplt\u001b[0m\u001b[0;34m.\u001b[0m\u001b[0mshow\u001b[0m\u001b[0;34m(\u001b[0m\u001b[0;34m)\u001b[0m\u001b[0;34m\u001b[0m\u001b[0;34m\u001b[0m\u001b[0m\n\u001b[1;32m    109\u001b[0m \u001b[0;34m\u001b[0m\u001b[0m\n\u001b[0;32m--> 110\u001b[0;31m \u001b[0macc_loss_plot\u001b[0m\u001b[0;34m(\u001b[0m\u001b[0mhistory\u001b[0m\u001b[0;34m)\u001b[0m\u001b[0;34m\u001b[0m\u001b[0;34m\u001b[0m\u001b[0m\n\u001b[0m",
            "\u001b[0;32m<ipython-input-7-1b685ddd3a04>\u001b[0m in \u001b[0;36macc_loss_plot\u001b[0;34m(history)\u001b[0m\n\u001b[1;32m     92\u001b[0m \u001b[0;34m\u001b[0m\u001b[0m\n\u001b[1;32m     93\u001b[0m \u001b[0;32mdef\u001b[0m \u001b[0macc_loss_plot\u001b[0m\u001b[0;34m(\u001b[0m\u001b[0mhistory\u001b[0m\u001b[0;34m)\u001b[0m\u001b[0;34m:\u001b[0m\u001b[0;34m\u001b[0m\u001b[0;34m\u001b[0m\u001b[0m\n\u001b[0;32m---> 94\u001b[0;31m     \u001b[0mfig\u001b[0m\u001b[0;34m,\u001b[0m \u001b[0mloss_ax\u001b[0m \u001b[0;34m=\u001b[0m \u001b[0mplt\u001b[0m\u001b[0;34m.\u001b[0m\u001b[0msubplots\u001b[0m\u001b[0;34m(\u001b[0m\u001b[0;34m)\u001b[0m\u001b[0;34m\u001b[0m\u001b[0;34m\u001b[0m\u001b[0m\n\u001b[0m\u001b[1;32m     95\u001b[0m     \u001b[0macc_ax\u001b[0m \u001b[0;34m=\u001b[0m \u001b[0mloss_ax\u001b[0m\u001b[0;34m.\u001b[0m\u001b[0mtwinx\u001b[0m\u001b[0;34m(\u001b[0m\u001b[0;34m)\u001b[0m\u001b[0;34m\u001b[0m\u001b[0;34m\u001b[0m\u001b[0m\n\u001b[1;32m     96\u001b[0m \u001b[0;34m\u001b[0m\u001b[0m\n",
            "\u001b[0;31mNameError\u001b[0m: name 'plt' is not defined"
          ]
        }
      ]
    },
    {
      "cell_type": "code",
      "metadata": {
        "id": "VcVj823vi8r6",
        "colab_type": "code",
        "outputId": "1056e81b-6a0e-4ab5-d3aa-f366d79ea1be",
        "colab": {
          "base_uri": "https://localhost:8080/",
          "height": 278
        }
      },
      "source": [
        "import matplotlib.pyplot as plt\n",
        "def acc_loss_plot(history):\n",
        "    fig, loss_ax = plt.subplots()\n",
        "    acc_ax = loss_ax.twinx()\n",
        "\n",
        "    loss_ax.plot(history.history['loss'], 'y', label='train loss')\n",
        "    loss_ax.plot(history.history['val_loss'], 'r', label='val loss')\n",
        "    loss_ax.set_xlabel('epoch')\n",
        "    loss_ax.set_ylabel('loss')\n",
        "    loss_ax.legend(loc='upper left')\n",
        "\n",
        "    acc_ax.plot(history.history['accuracy'], 'b', label='train acc')\n",
        "    acc_ax.plot(history.history['val_accuracy'], 'g', label='val acc')\n",
        "    acc_ax.set_ylabel('accuracy')\n",
        "    acc_ax.legend(loc='upper right')\n",
        "\n",
        "    plt.show()\n",
        "\n",
        "acc_loss_plot(history)"
      ],
      "execution_count": 0,
      "outputs": [
        {
          "output_type": "display_data",
          "data": {
            "image/png": "[encoded data removed]",
            "text/plain": [
              "<Figure size 432x288 with 2 Axes>"
            ]
          },
          "metadata": {
            "tags": [],
            "needs_background": "light"
          }
        }
      ]
    },
    {
      "cell_type": "code",
      "metadata": {
        "id": "VAkprvVW3T8b",
        "colab_type": "code",
        "colab": {}
      },
      "source": [
        ""
      ],
      "execution_count": 0,
      "outputs": []
    }
  ]
}